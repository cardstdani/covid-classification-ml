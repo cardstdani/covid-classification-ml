{
  "nbformat": 4,
  "nbformat_minor": 0,
  "metadata": {
    "colab": {
      "name": "ModelNotebook.ipynb",
      "provenance": [],
      "collapsed_sections": [],
      "include_colab_link": true
    },
    "kernelspec": {
      "name": "python3",
      "display_name": "Python 3"
    },
    "language_info": {
      "name": "python"
    }
  },
  "cells": [
    {
      "cell_type": "markdown",
      "metadata": {
        "id": "view-in-github",
        "colab_type": "text"
      },
      "source": [
        "<a href=\"https://colab.research.google.com/github/cardstdani/covid-classification-ml/blob/main/ModelNotebook.ipynb\" target=\"_parent\"><img src=\"https://colab.research.google.com/assets/colab-badge.svg\" alt=\"Open In Colab\"/></a>"
      ]
    },
    {
      "cell_type": "code",
      "metadata": {
        "id": "HBsDPXc1PcEo"
      },
      "source": [
        "import tensorflow as tf\n",
        "import numpy as np\n",
        "import matplotlib.pyplot as plt\n",
        "import math\n",
        "import os, shutil"
      ],
      "execution_count": 3,
      "outputs": []
    },
    {
      "cell_type": "markdown",
      "source": [
        "##**Data gathering and preprocessing**"
      ],
      "metadata": {
        "id": "0rKUvJI2pCnR"
      }
    },
    {
      "cell_type": "code",
      "metadata": {
        "id": "dVrNa5CBbft5",
        "colab": {
          "base_uri": "https://localhost:8080/"
        },
        "outputId": "d65f6bc9-e4bd-4761-d6ca-f128687e7f1e"
      },
      "source": [
        "try:\n",
        " shutil.rmtree(\"/content/covid-classification-ml\", ignore_errors=False, onerror=None)\n",
        "except:\n",
        "  print(\"An error occurred\")"
      ],
      "execution_count": 6,
      "outputs": [
        {
          "output_type": "stream",
          "name": "stdout",
          "text": [
            "An error occurred\n"
          ]
        }
      ]
    },
    {
      "cell_type": "code",
      "metadata": {
        "id": "LcQJsEL1PKvA"
      },
      "source": [
        "!git clone https://github.com/cardstdani/covid-classification-ml.git"
      ],
      "execution_count": null,
      "outputs": []
    },
    {
      "cell_type": "code",
      "metadata": {
        "id": "KcayEf-oOoGG",
        "colab": {
          "base_uri": "https://localhost:8080/"
        },
        "outputId": "477be4b5-ea53-4d2c-f8c7-2a750b211cff"
      },
      "source": [
        "DIR = \"/content/covid-classification-ml/Covid19_Dataset\"\n",
        "train_dataset = tf.keras.preprocessing.image_dataset_from_directory(DIR, validation_split=0.1, subset=\"training\", seed=42, batch_size=32, smart_resize=True, image_size=(256, 256))\n",
        "test_dataset = tf.keras.preprocessing.image_dataset_from_directory(DIR, validation_split=0.1, subset=\"validation\", seed=42, batch_size=32, smart_resize=True, image_size=(256, 256))\n",
        "\n",
        "classes = train_dataset.class_names\n",
        "numClasses = len(train_dataset.class_names)\n",
        "print(classes)\n",
        "\n",
        "AUTOTUNE = tf.data.AUTOTUNE\n",
        "\n",
        "train_dataset = train_dataset.prefetch(buffer_size=AUTOTUNE)\n",
        "test_dataset = test_dataset.prefetch(buffer_size=AUTOTUNE)"
      ],
      "execution_count": null,
      "outputs": [
        {
          "output_type": "stream",
          "name": "stdout",
          "text": [
            "Found 23472 files belonging to 5 classes.\n",
            "Using 21125 files for training.\n",
            "Found 23472 files belonging to 5 classes.\n",
            "Using 2347 files for validation.\n",
            "['Bacterial Pneumonia', 'COVID', 'Normal', 'Tuberculosis', 'Viral Pneumonia']\n"
          ]
        }
      ]
    },
    {
      "cell_type": "code",
      "metadata": {
        "id": "XyufTsjIwiFx"
      },
      "source": [
        "dataAug = tf.keras.preprocessing.image.ImageDataGenerator(\n",
        "        rotation_range=15,\n",
        "        width_shift_range=0.2,\n",
        "        height_shift_range=0.2,\n",
        "        rescale=1./255,\n",
        "        shear_range=0.2,\n",
        "        zoom_range=0.2,\n",
        "        horizontal_flip=True,\n",
        "        validation_split=0.1,\n",
        "        fill_mode='nearest')\n",
        "\n",
        "trainingDataset = dataAug.flow_from_directory(DIR, target_size=(256, 256), batch_size=16, shuffle=True, seed=42, interpolation='nearest', subset='training')\n",
        "validationDataset = dataAug.flow_from_directory(DIR, target_size=(256, 256), batch_size=16, shuffle=True, seed=42, interpolation='nearest', subset='validation')\n",
        "classes = os.listdir(DIR)"
      ],
      "execution_count": null,
      "outputs": []
    },
    {
      "cell_type": "code",
      "metadata": {
        "id": "GtWkcGo6OqDa",
        "colab": {
          "base_uri": "https://localhost:8080/"
        },
        "outputId": "d0a041f7-041d-4178-ac8e-4d0bb5614306"
      },
      "source": [
        "data_augmentation = tf.keras.Sequential([\n",
        "  #tf.keras.layers.experimental.preprocessing.Rescaling(1./255),\n",
        "  tf.keras.layers.experimental.preprocessing.RandomFlip('horizontal_and_vertical'),\n",
        "  tf.keras.layers.experimental.preprocessing.RandomRotation(0.2),\n",
        "])\n",
        "\n",
        "#train_dataset = train_dataset.map(lambda x, y: (data_augmentation(x, training=True), y), num_parallel_calls=AUTOTUNE)\n",
        "\n",
        "#MOBILE NET V3 MODEL\n",
        "#https://www.analyticsvidhya.com/blog/2020/09/overfitting-in-cnn-show-to-treat-overfitting-in-convolutional-neural-networks/\n",
        "#https://keras.io/api/callbacks/\n",
        "\n",
        "baseModel = tf.keras.applications.MobileNetV3Small(input_shape=(256, 256,3), weights='imagenet', include_top=False, classes=numClasses)\n",
        "for layers in baseModel.layers[:-53]:\n",
        "  layers.trainable = True\n",
        "\n",
        "last_output = baseModel.layers[-1].output\n",
        "x = tf.keras.layers.Dropout(0.5) (last_output)\n",
        "x = tf.keras.layers.GlobalMaxPooling2D() (last_output)\n",
        "x = tf.keras.layers.Dense(256, activation = 'relu', kernel_regularizer=tf.keras.regularizers.l2(0.02), activity_regularizer=tf.keras.regularizers.l2(0.02),  kernel_initializer='he_normal')(x)\n",
        "x = tf.keras.layers.BatchNormalization() (x)\n",
        "x = tf.keras.layers.Dropout(0.5) (x)\n",
        "x = tf.keras.layers.Dense(numClasses, activation='softmax')(x)\n",
        "\n",
        "model = tf.keras.Model(inputs=baseModel.input, outputs=x)\n",
        "\n",
        "model.compile(optimizer=tf.keras.optimizers.SGD(learning_rate=0.1), loss=tf.keras.losses.SparseCategoricalCrossentropy(), metrics=['accuracy'])\n",
        "epochs = 40\n",
        "timeDecay = tf.keras.callbacks.LearningRateScheduler(lambda epoch: 0.001 * 1 / (1 + 10 * epoch))\n",
        "stepDecay = tf.keras.callbacks.LearningRateScheduler(lambda epoch: 0.1 * 0.1**math.floor(epoch / 6))\n",
        "history = model.fit(train_dataset, validation_data=test_dataset, epochs=epochs, callbacks=[stepDecay])"
      ],
      "execution_count": null,
      "outputs": [
        {
          "output_type": "stream",
          "name": "stdout",
          "text": [
            "WARNING:tensorflow:`input_shape` is undefined or non-square, or `rows` is not 224. Weights for input shape (224, 224) will be loaded as the default.\n",
            "Epoch 1/40\n",
            "379/661 [================>.............] - ETA: 50s - loss: 3.8702 - accuracy: 0.8405"
          ]
        }
      ]
    },
    {
      "cell_type": "code",
      "metadata": {
        "id": "zj94gY1og4K1"
      },
      "source": [
        "epochs = 10\n",
        "stepDecay = tf.keras.callbacks.LearningRateScheduler(lambda epoch: 0.1 * 0.1**math.floor(epoch / 4))\n",
        "history = model.fit(train_dataset, validation_data=test_dataset, epochs=epochs, callbacks=[stepDecay])"
      ],
      "execution_count": null,
      "outputs": []
    },
    {
      "cell_type": "code",
      "metadata": {
        "id": "__aMYI6-OusN",
        "colab": {
          "base_uri": "https://localhost:8080/",
          "height": 265
        },
        "outputId": "8265ddbf-65a9-40c4-f4bf-93005ee7d986"
      },
      "source": [
        "plt.plot(range(0, epochs), history.history[\"loss\"], color=\"b\", label=\"Loss\")\n",
        "plt.plot(range(0, epochs), history.history[\"val_loss\"], color=\"r\", label=\"Test Loss\")\n",
        "plt.legend()\n",
        "plt.show()"
      ],
      "execution_count": null,
      "outputs": [
        {
          "output_type": "display_data",
          "data": {
            "image/png": "[encoded data removed]",
            "text/plain": [
              "<Figure size 432x288 with 1 Axes>"
            ]
          },
          "metadata": {
            "needs_background": "light"
          }
        }
      ]
    },
    {
      "cell_type": "code",
      "metadata": {
        "id": "QxNiwavZj-We",
        "colab": {
          "base_uri": "https://localhost:8080/",
          "height": 265
        },
        "outputId": "4a331519-9f98-43f7-969f-46cee48a1ef2"
      },
      "source": [
        "plt.plot(range(0, epochs), history.history[\"accuracy\"], color=\"b\", label=\"Accuracy\")\n",
        "plt.plot(range(0, epochs), history.history[\"val_accuracy\"], color=\"r\", label=\"Test Accuracy\")\n",
        "plt.legend()\n",
        "plt.show()"
      ],
      "execution_count": null,
      "outputs": [
        {
          "output_type": "display_data",
          "data": {
            "image/png": "[encoded data removed]",
            "text/plain": [
              "<Figure size 432x288 with 1 Axes>"
            ]
          },
          "metadata": {
            "needs_background": "light"
          }
        }
      ]
    },
    {
      "cell_type": "code",
      "metadata": {
        "id": "zB6Fcx_tBM0W"
      },
      "source": [
        "model.summary()"
      ],
      "execution_count": null,
      "outputs": []
    },
    {
      "cell_type": "code",
      "metadata": {
        "id": "MEDkaEZ-iyIL"
      },
      "source": [
        "learning_rates = 0.1 * 0.1**math.floor(epoch / 4)\n",
        "plt.semilogx(learning_rates, history.history['loss'], lw=3)\n",
        "plt.title('Learning rate vs. loss')\n",
        "plt.xlabel('Learning rate')\n",
        "plt.ylabel('Loss')"
      ],
      "execution_count": null,
      "outputs": []
    },
    {
      "cell_type": "code",
      "metadata": {
        "id": "5W0S8gUoOxlV"
      },
      "source": [
        "model.save(\"/content/drive/MyDrive/Datasets/ImagingModel3.h5\")"
      ],
      "execution_count": null,
      "outputs": []
    },
    {
      "cell_type": "code",
      "metadata": {
        "id": "hjjNM9Vhz6xE"
      },
      "source": [
        "model = tf.keras.models.load_model(\"/content/drive/MyDrive/Datasets/ImagingModel3.h5\")"
      ],
      "execution_count": null,
      "outputs": []
    },
    {
      "cell_type": "markdown",
      "metadata": {
        "id": "IgN8eqKzpGdh"
      },
      "source": [
        "**One Image Prediction**"
      ]
    },
    {
      "cell_type": "code",
      "metadata": {
        "id": "EoqWrT3vjNsQ"
      },
      "source": [
        "import requests\n",
        "\n",
        "img_data = requests.get(\"https://cdn0.scrvt.com/0e46935d037de4ec3888566275864b37/1800000007267893/5a55409c371b/v/f8eac2053bc7/x-ray-COVID-19-2_1800000007267893.jpg?nowebp=1\").content\n",
        "with open('img.jpg', 'wb') as handler:\n",
        "    handler.write(img_data)\n",
        "\n",
        "path = \"/content/img.jpg\"\n",
        "#path = \"/content/Covid19_Dataset/Normal/Normal-1000.png\"\n",
        "\n",
        "img = tf.keras.preprocessing.image.load_img(path, target_size=(256, 256))\n",
        "img_array = tf.keras.preprocessing.image.img_to_array(img)\n",
        "img_array = tf.expand_dims(img_array, 0) \n",
        "\n",
        "predictions = model.predict(img_array)\n",
        "#score = tf.nn.softmax(predictions[0])\n",
        "\n",
        "plt.imshow(img)\n",
        "print(predictions[0]*100, classes)\n",
        "print(\"Prediction: \" + str(classes[np.argmax(predictions)]))"
      ],
      "execution_count": null,
      "outputs": []
    },
    {
      "cell_type": "markdown",
      "metadata": {
        "id": "WgPjBYc3pKz3"
      },
      "source": [
        "**Model Evaluation**"
      ]
    },
    {
      "cell_type": "code",
      "metadata": {
        "id": "yxHXWGubTos1"
      },
      "source": [
        "def plot_confusion_matrix(cm, target_names, cmap=None):\n",
        "    import matplotlib.pyplot as plt\n",
        "    import numpy as np\n",
        "    import itertools\n",
        "\n",
        "    accuracy = np.trace(cm) / float(np.sum(cm))\n",
        "    misclass = 1 - accuracy\n",
        "\n",
        "    if cmap is None:\n",
        "        cmap = plt.get_cmap('Blues')\n",
        "\n",
        "    plt.figure(figsize=(8, 6))\n",
        "    plt.imshow(cm, interpolation='nearest', cmap=cmap)\n",
        "    plt.title('Confusion matrix')\n",
        "    plt.colorbar()\n",
        "\n",
        "    if target_names is not None:\n",
        "        tick_marks = np.arange(len(target_names))\n",
        "        plt.xticks(tick_marks, target_names, rotation=45)\n",
        "        plt.yticks(tick_marks, target_names)\n",
        "\n",
        "    for i, j in itertools.product(range(cm.shape[0]), range(cm.shape[1])):\n",
        "            plt.text(j, i, \"{:,}\".format(cm[i, j]),\n",
        "                     horizontalalignment=\"center\",\n",
        "                     color=\"black\")\n",
        "\n",
        "    plt.tight_layout()\n",
        "    plt.ylabel('True label')\n",
        "    plt.xlabel('Predicted label\\naccuracy={:0.4f}%; misclass={:0.4f}%'.format(accuracy, misclass))\n",
        "    plt.show()\n",
        "\n",
        "plt.figure(figsize=(10, 10))\n",
        "true = []\n",
        "predictions = []\n",
        "\n",
        "for images, labels in test_dataset.take(35):\n",
        "  pred = model.predict(images)\n",
        "  for i in range(9):\n",
        "    ax = plt.subplot(3, 3, i + 1)\n",
        "    plt.imshow(images[i].numpy().astype(\"uint8\"))\n",
        "    #print(classes[np.argmax(pred[i])], 100 * np.max(pred[i]), \"real = \" + str(classes[labels[i]]))\n",
        "\n",
        "    true.append(labels[i])\n",
        "    predictions.append(np.argmax(pred[i]))\n",
        "\n",
        "    plt.title(classes[labels[i]])\n",
        "    plt.axis(\"off\")\n",
        "\n",
        "plot_confusion_matrix(tf.math.confusion_matrix(true, predictions), classes)"
      ],
      "execution_count": null,
      "outputs": []
    },
    {
      "cell_type": "markdown",
      "metadata": {
        "id": "-ub9jdM3TUeL"
      },
      "source": [
        "**Filter visualization**"
      ]
    },
    {
      "cell_type": "code",
      "metadata": {
        "id": "MZTcUzKgTUNZ"
      },
      "source": [
        "img_path='/content/img.jpg' \n",
        "\n",
        "successive_outputs = [layer.output for layer in model.layers[1:]]\n",
        "visualization_model = tf.keras.models.Model(inputs = model.input, outputs = successive_outputs)\n",
        "img = tf.keras.preprocessing.image.load_img(img_path, target_size=(224, 224))# Convert ht image to Array of dimension (150,150,3)\n",
        "x   = tf.keras.preprocessing.image.img_to_array(img)                           \n",
        "x   = x.reshape((1,) + x.shape)# Rescale by 1/255\n",
        "x /= 255.0\n",
        "\n",
        "successive_feature_maps = visualization_model.predict(x)\n",
        "layer_names = [layer.name for layer in model.layers]\n",
        "\n",
        "for layer_name, feature_map in zip(layer_names, successive_feature_maps):\n",
        "  print(feature_map.shape)\n",
        "  if len(feature_map.shape) == 4:       \n",
        "    n_features = feature_map.shape[-1]  # number of features in the feature map\n",
        "    size       = feature_map.shape[ 1]  # feature map shape (1, size, size, n_features)\n",
        "    \n",
        "    display_grid = np.zeros((size, size * n_features))\n",
        "    \n",
        "    for i in range(n_features):\n",
        "      x  = feature_map[0, :, :, i]\n",
        "      x -= x.mean()\n",
        "      x /= x.std ()\n",
        "      x *=  64\n",
        "      x += 128\n",
        "      x  = np.clip(x, 0, 255).astype('uint8')\n",
        "      display_grid[:, i * size : (i + 1) * size] = x# Display the grid\n",
        "    scale = 20. / n_features\n",
        "    plt.figure( figsize=(scale * n_features, scale) )\n",
        "    plt.title ( layer_name )\n",
        "    plt.grid  ( False )\n",
        "    plt.imshow( display_grid, aspect='auto', cmap='winter' )"
      ],
      "execution_count": null,
      "outputs": []
    }
  ]
}